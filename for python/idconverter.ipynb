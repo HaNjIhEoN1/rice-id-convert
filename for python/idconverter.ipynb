{
 "cells": [
  {
   "cell_type": "code",
   "execution_count": 3,
   "id": "2f445e0a-6b02-4512-8d9f-f375205caf81",
   "metadata": {},
   "outputs": [],
   "source": [
    "import pandas as pd"
   ]
  },
  {
   "cell_type": "code",
   "execution_count": 5,
   "id": "742bdb37-f418-40f4-b34e-486c6990c2a5",
   "metadata": {},
   "outputs": [],
   "source": [
    "As = pd.read_csv('/data/doodle/idconverter/deseqas.csv')"
   ]
  },
  {
   "cell_type": "code",
   "execution_count": 6,
   "id": "49887d40-af7f-4e57-afc5-7b9f1d2128a5",
   "metadata": {},
   "outputs": [
    {
     "data": {
      "text/plain": [
       "0       Os01g0106400\n",
       "1       Os01g0110050\n",
       "2       Os01g0110100\n",
       "3       Os01g0113500\n",
       "4       Os01g0114100\n",
       "            ...     \n",
       "1179    Os12g0622850\n",
       "1180    Os12g0624300\n",
       "1181    Os12g0626500\n",
       "1182    Os12g0639400\n",
       "1183    Os12g0639500\n",
       "Name: gene, Length: 1184, dtype: object"
      ]
     },
     "execution_count": 6,
     "metadata": {},
     "output_type": "execute_result"
    }
   ],
   "source": [
    "As['gene']"
   ]
  },
  {
   "cell_type": "code",
   "execution_count": 13,
   "id": "ea4066fb-fbc5-457b-83f6-2aef22d93240",
   "metadata": {},
   "outputs": [],
   "source": [
    "ID = pd.read_csv('/data/doodle/idconverter/RAP-MSU_2023-03-15.txt', sep = '\\t', header=None)"
   ]
  },
  {
   "cell_type": "code",
   "execution_count": 14,
   "id": "b6c0035f-410a-4575-927a-bccb071105c9",
   "metadata": {},
   "outputs": [
    {
     "data": {
      "text/html": [
       "<div>\n",
       "<style scoped>\n",
       "    .dataframe tbody tr th:only-of-type {\n",
       "        vertical-align: middle;\n",
       "    }\n",
       "\n",
       "    .dataframe tbody tr th {\n",
       "        vertical-align: top;\n",
       "    }\n",
       "\n",
       "    .dataframe thead th {\n",
       "        text-align: right;\n",
       "    }\n",
       "</style>\n",
       "<table border=\"1\" class=\"dataframe\">\n",
       "  <thead>\n",
       "    <tr style=\"text-align: right;\">\n",
       "      <th></th>\n",
       "      <th>0</th>\n",
       "      <th>1</th>\n",
       "    </tr>\n",
       "  </thead>\n",
       "  <tbody>\n",
       "    <tr>\n",
       "      <th>0</th>\n",
       "      <td>Os01g0100100</td>\n",
       "      <td>LOC_Os01g01010.1,LOC_Os01g01010.2</td>\n",
       "    </tr>\n",
       "    <tr>\n",
       "      <th>1</th>\n",
       "      <td>Os01g0100200</td>\n",
       "      <td>LOC_Os01g01019.1</td>\n",
       "    </tr>\n",
       "    <tr>\n",
       "      <th>2</th>\n",
       "      <td>Os01g0100300</td>\n",
       "      <td>None</td>\n",
       "    </tr>\n",
       "    <tr>\n",
       "      <th>3</th>\n",
       "      <td>Os01g0100400</td>\n",
       "      <td>LOC_Os01g01030.1</td>\n",
       "    </tr>\n",
       "    <tr>\n",
       "      <th>4</th>\n",
       "      <td>Os01g0100466</td>\n",
       "      <td>None</td>\n",
       "    </tr>\n",
       "    <tr>\n",
       "      <th>...</th>\n",
       "      <td>...</td>\n",
       "      <td>...</td>\n",
       "    </tr>\n",
       "    <tr>\n",
       "      <th>68927</th>\n",
       "      <td>None</td>\n",
       "      <td>LOC_Os12g43960.1</td>\n",
       "    </tr>\n",
       "    <tr>\n",
       "      <th>68928</th>\n",
       "      <td>None</td>\n",
       "      <td>LOC_Os12g44120.1</td>\n",
       "    </tr>\n",
       "    <tr>\n",
       "      <th>68929</th>\n",
       "      <td>None</td>\n",
       "      <td>LOC_Os12g44200.1</td>\n",
       "    </tr>\n",
       "    <tr>\n",
       "      <th>68930</th>\n",
       "      <td>None</td>\n",
       "      <td>LOC_Os12g44260.1</td>\n",
       "    </tr>\n",
       "    <tr>\n",
       "      <th>68931</th>\n",
       "      <td>None</td>\n",
       "      <td>LOC_Os12g44350.1</td>\n",
       "    </tr>\n",
       "  </tbody>\n",
       "</table>\n",
       "<p>68932 rows × 2 columns</p>\n",
       "</div>"
      ],
      "text/plain": [
       "                  0                                  1\n",
       "0      Os01g0100100  LOC_Os01g01010.1,LOC_Os01g01010.2\n",
       "1      Os01g0100200                   LOC_Os01g01019.1\n",
       "2      Os01g0100300                               None\n",
       "3      Os01g0100400                   LOC_Os01g01030.1\n",
       "4      Os01g0100466                               None\n",
       "...             ...                                ...\n",
       "68927          None                   LOC_Os12g43960.1\n",
       "68928          None                   LOC_Os12g44120.1\n",
       "68929          None                   LOC_Os12g44200.1\n",
       "68930          None                   LOC_Os12g44260.1\n",
       "68931          None                   LOC_Os12g44350.1\n",
       "\n",
       "[68932 rows x 2 columns]"
      ]
     },
     "execution_count": 14,
     "metadata": {},
     "output_type": "execute_result"
    }
   ],
   "source": [
    "ID"
   ]
  },
  {
   "cell_type": "code",
   "execution_count": 22,
   "id": "ce7399f4-ee5a-4d20-b6ce-1060ffa1884f",
   "metadata": {},
   "outputs": [],
   "source": [
    "c = 'RAP','MSU'"
   ]
  },
  {
   "cell_type": "code",
   "execution_count": 23,
   "id": "9d19fafe-dd6d-43d4-8770-d328d1eea384",
   "metadata": {},
   "outputs": [
    {
     "data": {
      "text/plain": [
       "('RAP', 'MSU')"
      ]
     },
     "execution_count": 23,
     "metadata": {},
     "output_type": "execute_result"
    }
   ],
   "source": [
    "c"
   ]
  },
  {
   "cell_type": "code",
   "execution_count": 24,
   "id": "bc77544e-6eb3-4d66-9f6a-350bb66e5b91",
   "metadata": {},
   "outputs": [],
   "source": [
    "ID.columns = c"
   ]
  },
  {
   "cell_type": "code",
   "execution_count": 25,
   "id": "95ecf6f9-c856-4d93-a141-575ade675528",
   "metadata": {},
   "outputs": [
    {
     "data": {
      "text/html": [
       "<div>\n",
       "<style scoped>\n",
       "    .dataframe tbody tr th:only-of-type {\n",
       "        vertical-align: middle;\n",
       "    }\n",
       "\n",
       "    .dataframe tbody tr th {\n",
       "        vertical-align: top;\n",
       "    }\n",
       "\n",
       "    .dataframe thead th {\n",
       "        text-align: right;\n",
       "    }\n",
       "</style>\n",
       "<table border=\"1\" class=\"dataframe\">\n",
       "  <thead>\n",
       "    <tr style=\"text-align: right;\">\n",
       "      <th></th>\n",
       "      <th>RAP</th>\n",
       "      <th>MSU</th>\n",
       "    </tr>\n",
       "  </thead>\n",
       "  <tbody>\n",
       "    <tr>\n",
       "      <th>0</th>\n",
       "      <td>Os01g0100100</td>\n",
       "      <td>LOC_Os01g01010.1,LOC_Os01g01010.2</td>\n",
       "    </tr>\n",
       "    <tr>\n",
       "      <th>1</th>\n",
       "      <td>Os01g0100200</td>\n",
       "      <td>LOC_Os01g01019.1</td>\n",
       "    </tr>\n",
       "    <tr>\n",
       "      <th>2</th>\n",
       "      <td>Os01g0100300</td>\n",
       "      <td>None</td>\n",
       "    </tr>\n",
       "    <tr>\n",
       "      <th>3</th>\n",
       "      <td>Os01g0100400</td>\n",
       "      <td>LOC_Os01g01030.1</td>\n",
       "    </tr>\n",
       "    <tr>\n",
       "      <th>4</th>\n",
       "      <td>Os01g0100466</td>\n",
       "      <td>None</td>\n",
       "    </tr>\n",
       "  </tbody>\n",
       "</table>\n",
       "</div>"
      ],
      "text/plain": [
       "            RAP                                MSU\n",
       "0  Os01g0100100  LOC_Os01g01010.1,LOC_Os01g01010.2\n",
       "1  Os01g0100200                   LOC_Os01g01019.1\n",
       "2  Os01g0100300                               None\n",
       "3  Os01g0100400                   LOC_Os01g01030.1\n",
       "4  Os01g0100466                               None"
      ]
     },
     "execution_count": 25,
     "metadata": {},
     "output_type": "execute_result"
    }
   ],
   "source": [
    "ID.head()"
   ]
  },
  {
   "cell_type": "code",
   "execution_count": 26,
   "id": "fd722fd0-4320-455d-ad2f-021abccafda6",
   "metadata": {},
   "outputs": [],
   "source": [
    "ID=ID.set_index(keys= 'RAP')"
   ]
  },
  {
   "cell_type": "code",
   "execution_count": 27,
   "id": "5adeb7c7-815e-42a7-8271-c4ab11dd6f40",
   "metadata": {},
   "outputs": [
    {
     "data": {
      "text/html": [
       "<div>\n",
       "<style scoped>\n",
       "    .dataframe tbody tr th:only-of-type {\n",
       "        vertical-align: middle;\n",
       "    }\n",
       "\n",
       "    .dataframe tbody tr th {\n",
       "        vertical-align: top;\n",
       "    }\n",
       "\n",
       "    .dataframe thead th {\n",
       "        text-align: right;\n",
       "    }\n",
       "</style>\n",
       "<table border=\"1\" class=\"dataframe\">\n",
       "  <thead>\n",
       "    <tr style=\"text-align: right;\">\n",
       "      <th></th>\n",
       "      <th>MSU</th>\n",
       "    </tr>\n",
       "    <tr>\n",
       "      <th>RAP</th>\n",
       "      <th></th>\n",
       "    </tr>\n",
       "  </thead>\n",
       "  <tbody>\n",
       "    <tr>\n",
       "      <th>Os01g0100100</th>\n",
       "      <td>LOC_Os01g01010.1,LOC_Os01g01010.2</td>\n",
       "    </tr>\n",
       "    <tr>\n",
       "      <th>Os01g0100200</th>\n",
       "      <td>LOC_Os01g01019.1</td>\n",
       "    </tr>\n",
       "    <tr>\n",
       "      <th>Os01g0100300</th>\n",
       "      <td>None</td>\n",
       "    </tr>\n",
       "    <tr>\n",
       "      <th>Os01g0100400</th>\n",
       "      <td>LOC_Os01g01030.1</td>\n",
       "    </tr>\n",
       "    <tr>\n",
       "      <th>Os01g0100466</th>\n",
       "      <td>None</td>\n",
       "    </tr>\n",
       "  </tbody>\n",
       "</table>\n",
       "</div>"
      ],
      "text/plain": [
       "                                            MSU\n",
       "RAP                                            \n",
       "Os01g0100100  LOC_Os01g01010.1,LOC_Os01g01010.2\n",
       "Os01g0100200                   LOC_Os01g01019.1\n",
       "Os01g0100300                               None\n",
       "Os01g0100400                   LOC_Os01g01030.1\n",
       "Os01g0100466                               None"
      ]
     },
     "execution_count": 27,
     "metadata": {},
     "output_type": "execute_result"
    }
   ],
   "source": [
    "ID.head()"
   ]
  },
  {
   "cell_type": "code",
   "execution_count": 31,
   "id": "5b07eeda-009f-4657-be91-42e60918cb35",
   "metadata": {},
   "outputs": [],
   "source": [
    "dic = {}\n",
    "for i in As['gene']:\n",
    "     RAP = i\n",
    "     MSU = ID.at[i,'MSU'].split(',')[0].split('.')[0]\n",
    "     dic[RAP] = MSU"
   ]
  },
  {
   "cell_type": "code",
   "execution_count": 39,
   "id": "1bd6ee58-96be-4f07-aafa-3c21cfc2a941",
   "metadata": {},
   "outputs": [],
   "source": [
    "test=pd.DataFrame(dic, index = [0]).T"
   ]
  },
  {
   "cell_type": "code",
   "execution_count": 40,
   "id": "2ccd5973-ba0a-4022-8e76-5da5b174178b",
   "metadata": {},
   "outputs": [
    {
     "data": {
      "text/html": [
       "<div>\n",
       "<style scoped>\n",
       "    .dataframe tbody tr th:only-of-type {\n",
       "        vertical-align: middle;\n",
       "    }\n",
       "\n",
       "    .dataframe tbody tr th {\n",
       "        vertical-align: top;\n",
       "    }\n",
       "\n",
       "    .dataframe thead th {\n",
       "        text-align: right;\n",
       "    }\n",
       "</style>\n",
       "<table border=\"1\" class=\"dataframe\">\n",
       "  <thead>\n",
       "    <tr style=\"text-align: right;\">\n",
       "      <th></th>\n",
       "      <th>0</th>\n",
       "    </tr>\n",
       "  </thead>\n",
       "  <tbody>\n",
       "    <tr>\n",
       "      <th>Os01g0106400</th>\n",
       "      <td>LOC_Os01g01660</td>\n",
       "    </tr>\n",
       "    <tr>\n",
       "      <th>Os01g0110050</th>\n",
       "      <td>None</td>\n",
       "    </tr>\n",
       "    <tr>\n",
       "      <th>Os01g0110100</th>\n",
       "      <td>LOC_Os01g02000</td>\n",
       "    </tr>\n",
       "    <tr>\n",
       "      <th>Os01g0113500</th>\n",
       "      <td>None</td>\n",
       "    </tr>\n",
       "    <tr>\n",
       "      <th>Os01g0114100</th>\n",
       "      <td>LOC_Os01g02390</td>\n",
       "    </tr>\n",
       "  </tbody>\n",
       "</table>\n",
       "</div>"
      ],
      "text/plain": [
       "                           0\n",
       "Os01g0106400  LOC_Os01g01660\n",
       "Os01g0110050            None\n",
       "Os01g0110100  LOC_Os01g02000\n",
       "Os01g0113500            None\n",
       "Os01g0114100  LOC_Os01g02390"
      ]
     },
     "execution_count": 40,
     "metadata": {},
     "output_type": "execute_result"
    }
   ],
   "source": [
    "test.head()"
   ]
  }
 ],
 "metadata": {
  "kernelspec": {
   "display_name": "Python 3 (ipykernel)",
   "language": "python",
   "name": "python3"
  },
  "language_info": {
   "codemirror_mode": {
    "name": "ipython",
    "version": 3
   },
   "file_extension": ".py",
   "mimetype": "text/x-python",
   "name": "python",
   "nbconvert_exporter": "python",
   "pygments_lexer": "ipython3",
   "version": "3.11.0"
  }
 },
 "nbformat": 4,
 "nbformat_minor": 5
}
