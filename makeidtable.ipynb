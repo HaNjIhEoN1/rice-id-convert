{
 "cells": [
  {
   "cell_type": "code",
   "execution_count": 2,
   "id": "42e1e24f-272b-4053-bc52-58fdfb871634",
   "metadata": {},
   "outputs": [],
   "source": [
    "import pandas as pd"
   ]
  },
  {
   "cell_type": "code",
   "execution_count": 3,
   "id": "18ffcebe-e315-44c4-a225-85b077d593e2",
   "metadata": {},
   "outputs": [],
   "source": [
    "df = pd.read_csv('./RAP-MSU_2023-03-15.txt', sep = '\\t', header = None)\n",
    "c = 'RAP,MSU'\n",
    "df.columns = c.split(',')"
   ]
  },
  {
   "cell_type": "code",
   "execution_count": 4,
   "id": "a6eb8d01-08b8-4548-9c73-ee4f36632e5d",
   "metadata": {},
   "outputs": [
    {
     "data": {
      "text/html": [
       "<div>\n",
       "<style scoped>\n",
       "    .dataframe tbody tr th:only-of-type {\n",
       "        vertical-align: middle;\n",
       "    }\n",
       "\n",
       "    .dataframe tbody tr th {\n",
       "        vertical-align: top;\n",
       "    }\n",
       "\n",
       "    .dataframe thead th {\n",
       "        text-align: right;\n",
       "    }\n",
       "</style>\n",
       "<table border=\"1\" class=\"dataframe\">\n",
       "  <thead>\n",
       "    <tr style=\"text-align: right;\">\n",
       "      <th></th>\n",
       "      <th>RAP</th>\n",
       "      <th>MSU</th>\n",
       "    </tr>\n",
       "  </thead>\n",
       "  <tbody>\n",
       "    <tr>\n",
       "      <th>0</th>\n",
       "      <td>Os01g0100100</td>\n",
       "      <td>LOC_Os01g01010.1,LOC_Os01g01010.2</td>\n",
       "    </tr>\n",
       "    <tr>\n",
       "      <th>1</th>\n",
       "      <td>Os01g0100200</td>\n",
       "      <td>LOC_Os01g01019.1</td>\n",
       "    </tr>\n",
       "    <tr>\n",
       "      <th>2</th>\n",
       "      <td>Os01g0100300</td>\n",
       "      <td>None</td>\n",
       "    </tr>\n",
       "    <tr>\n",
       "      <th>3</th>\n",
       "      <td>Os01g0100400</td>\n",
       "      <td>LOC_Os01g01030.1</td>\n",
       "    </tr>\n",
       "    <tr>\n",
       "      <th>4</th>\n",
       "      <td>Os01g0100466</td>\n",
       "      <td>None</td>\n",
       "    </tr>\n",
       "  </tbody>\n",
       "</table>\n",
       "</div>"
      ],
      "text/plain": [
       "            RAP                                MSU\n",
       "0  Os01g0100100  LOC_Os01g01010.1,LOC_Os01g01010.2\n",
       "1  Os01g0100200                   LOC_Os01g01019.1\n",
       "2  Os01g0100300                               None\n",
       "3  Os01g0100400                   LOC_Os01g01030.1\n",
       "4  Os01g0100466                               None"
      ]
     },
     "execution_count": 4,
     "metadata": {},
     "output_type": "execute_result"
    }
   ],
   "source": [
    "df.head()"
   ]
  },
  {
   "cell_type": "code",
   "execution_count": 5,
   "id": "f853f560-2ffd-415c-93cf-12b5fc216949",
   "metadata": {},
   "outputs": [
    {
     "data": {
      "text/plain": [
       "0        LOC_Os01g01010.1,LOC_Os01g01010.2\n",
       "1                         LOC_Os01g01019.1\n",
       "2                                     None\n",
       "3                         LOC_Os01g01030.1\n",
       "4                                     None\n",
       "                       ...                \n",
       "68927                     LOC_Os12g43960.1\n",
       "68928                     LOC_Os12g44120.1\n",
       "68929                     LOC_Os12g44200.1\n",
       "68930                     LOC_Os12g44260.1\n",
       "68931                     LOC_Os12g44350.1\n",
       "Name: MSU, Length: 68932, dtype: object"
      ]
     },
     "execution_count": 5,
     "metadata": {},
     "output_type": "execute_result"
    }
   ],
   "source": [
    "df['MSU']"
   ]
  },
  {
   "cell_type": "code",
   "execution_count": 6,
   "id": "c29238e2-f9ba-4ac9-aafd-e93fc2a517ad",
   "metadata": {},
   "outputs": [],
   "source": [
    "MSU1 = df['MSU'].str.split(',')\n",
    "df['MSU1']=MSU1.str.get(0)\n",
    "MSU2 = df['MSU1'].str.split('.')\n",
    "df['MSU1']=MSU2.str.get(0)"
   ]
  },
  {
   "cell_type": "code",
   "execution_count": 7,
   "id": "c0aa8a1d-e930-48c4-83f2-438102f843c9",
   "metadata": {},
   "outputs": [
    {
     "data": {
      "text/html": [
       "<div>\n",
       "<style scoped>\n",
       "    .dataframe tbody tr th:only-of-type {\n",
       "        vertical-align: middle;\n",
       "    }\n",
       "\n",
       "    .dataframe tbody tr th {\n",
       "        vertical-align: top;\n",
       "    }\n",
       "\n",
       "    .dataframe thead th {\n",
       "        text-align: right;\n",
       "    }\n",
       "</style>\n",
       "<table border=\"1\" class=\"dataframe\">\n",
       "  <thead>\n",
       "    <tr style=\"text-align: right;\">\n",
       "      <th></th>\n",
       "      <th>RAP</th>\n",
       "      <th>MSU</th>\n",
       "      <th>MSU1</th>\n",
       "    </tr>\n",
       "  </thead>\n",
       "  <tbody>\n",
       "    <tr>\n",
       "      <th>0</th>\n",
       "      <td>Os01g0100100</td>\n",
       "      <td>LOC_Os01g01010.1,LOC_Os01g01010.2</td>\n",
       "      <td>LOC_Os01g01010</td>\n",
       "    </tr>\n",
       "    <tr>\n",
       "      <th>1</th>\n",
       "      <td>Os01g0100200</td>\n",
       "      <td>LOC_Os01g01019.1</td>\n",
       "      <td>LOC_Os01g01019</td>\n",
       "    </tr>\n",
       "    <tr>\n",
       "      <th>2</th>\n",
       "      <td>Os01g0100300</td>\n",
       "      <td>None</td>\n",
       "      <td>None</td>\n",
       "    </tr>\n",
       "    <tr>\n",
       "      <th>3</th>\n",
       "      <td>Os01g0100400</td>\n",
       "      <td>LOC_Os01g01030.1</td>\n",
       "      <td>LOC_Os01g01030</td>\n",
       "    </tr>\n",
       "    <tr>\n",
       "      <th>4</th>\n",
       "      <td>Os01g0100466</td>\n",
       "      <td>None</td>\n",
       "      <td>None</td>\n",
       "    </tr>\n",
       "  </tbody>\n",
       "</table>\n",
       "</div>"
      ],
      "text/plain": [
       "            RAP                                MSU            MSU1\n",
       "0  Os01g0100100  LOC_Os01g01010.1,LOC_Os01g01010.2  LOC_Os01g01010\n",
       "1  Os01g0100200                   LOC_Os01g01019.1  LOC_Os01g01019\n",
       "2  Os01g0100300                               None            None\n",
       "3  Os01g0100400                   LOC_Os01g01030.1  LOC_Os01g01030\n",
       "4  Os01g0100466                               None            None"
      ]
     },
     "execution_count": 7,
     "metadata": {},
     "output_type": "execute_result"
    }
   ],
   "source": [
    "df.head()"
   ]
  },
  {
   "cell_type": "code",
   "execution_count": 8,
   "id": "cb2a89dc-2644-416e-b3a1-ff641213d558",
   "metadata": {},
   "outputs": [],
   "source": [
    "df.drop(columns= ['MSU'], inplace = True)"
   ]
  },
  {
   "cell_type": "code",
   "execution_count": 9,
   "id": "52895d7a-f42b-46b3-8e47-58a6cc3ab7b9",
   "metadata": {},
   "outputs": [
    {
     "ename": "AttributeError",
     "evalue": "'DataFrame' object has no attribute 'haed'",
     "output_type": "error",
     "traceback": [
      "\u001b[0;31m---------------------------------------------------------------------------\u001b[0m",
      "\u001b[0;31mAttributeError\u001b[0m                            Traceback (most recent call last)",
      "Cell \u001b[0;32mIn[9], line 1\u001b[0m\n\u001b[0;32m----> 1\u001b[0m \u001b[43mdf\u001b[49m\u001b[38;5;241;43m.\u001b[39;49m\u001b[43mhaed\u001b[49m()\n",
      "File \u001b[0;32m~/miniconda3/envs/jupyter/lib/python3.11/site-packages/pandas/core/generic.py:5902\u001b[0m, in \u001b[0;36mNDFrame.__getattr__\u001b[0;34m(self, name)\u001b[0m\n\u001b[1;32m   5895\u001b[0m \u001b[38;5;28;01mif\u001b[39;00m (\n\u001b[1;32m   5896\u001b[0m     name \u001b[38;5;129;01mnot\u001b[39;00m \u001b[38;5;129;01min\u001b[39;00m \u001b[38;5;28mself\u001b[39m\u001b[38;5;241m.\u001b[39m_internal_names_set\n\u001b[1;32m   5897\u001b[0m     \u001b[38;5;129;01mand\u001b[39;00m name \u001b[38;5;129;01mnot\u001b[39;00m \u001b[38;5;129;01min\u001b[39;00m \u001b[38;5;28mself\u001b[39m\u001b[38;5;241m.\u001b[39m_metadata\n\u001b[1;32m   5898\u001b[0m     \u001b[38;5;129;01mand\u001b[39;00m name \u001b[38;5;129;01mnot\u001b[39;00m \u001b[38;5;129;01min\u001b[39;00m \u001b[38;5;28mself\u001b[39m\u001b[38;5;241m.\u001b[39m_accessors\n\u001b[1;32m   5899\u001b[0m     \u001b[38;5;129;01mand\u001b[39;00m \u001b[38;5;28mself\u001b[39m\u001b[38;5;241m.\u001b[39m_info_axis\u001b[38;5;241m.\u001b[39m_can_hold_identifiers_and_holds_name(name)\n\u001b[1;32m   5900\u001b[0m ):\n\u001b[1;32m   5901\u001b[0m     \u001b[38;5;28;01mreturn\u001b[39;00m \u001b[38;5;28mself\u001b[39m[name]\n\u001b[0;32m-> 5902\u001b[0m \u001b[38;5;28;01mreturn\u001b[39;00m \u001b[38;5;28;43mobject\u001b[39;49m\u001b[38;5;241;43m.\u001b[39;49m\u001b[38;5;21;43m__getattribute__\u001b[39;49m\u001b[43m(\u001b[49m\u001b[38;5;28;43mself\u001b[39;49m\u001b[43m,\u001b[49m\u001b[43m \u001b[49m\u001b[43mname\u001b[49m\u001b[43m)\u001b[49m\n",
      "\u001b[0;31mAttributeError\u001b[0m: 'DataFrame' object has no attribute 'haed'"
     ]
    }
   ],
   "source": [
    "df.haed()"
   ]
  },
  {
   "cell_type": "code",
   "execution_count": null,
   "id": "4c5cf9c1-ad25-4869-b967-1427899bdb8a",
   "metadata": {},
   "outputs": [],
   "source": []
  }
 ],
 "metadata": {
  "kernelspec": {
   "display_name": "Python 3 (ipykernel)",
   "language": "python",
   "name": "python3"
  },
  "language_info": {
   "codemirror_mode": {
    "name": "ipython",
    "version": 3
   },
   "file_extension": ".py",
   "mimetype": "text/x-python",
   "name": "python",
   "nbconvert_exporter": "python",
   "pygments_lexer": "ipython3",
   "version": "3.11.0"
  }
 },
 "nbformat": 4,
 "nbformat_minor": 5
}
